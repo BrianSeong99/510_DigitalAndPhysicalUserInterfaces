{
 "cells": [
  {
   "cell_type": "markdown",
   "id": "20feb6b3",
   "metadata": {},
   "source": [
    "# Working with Chatbots"
   ]
  },
  {
   "cell_type": "markdown",
   "id": "95a0889f",
   "metadata": {},
   "source": [
    "## Activity 1: Demo an Existing Chatbot\n",
    "Before we begin creating our own chatbots, let's take a look at a few example chatbots from the popular NLTK library."
   ]
  },
  {
   "cell_type": "markdown",
   "id": "d9a8774c",
   "metadata": {},
   "source": [
    "### Install the Natural Language Toolkit (NLTK)\n",
    "First we install the NLTK library and call the `.chat.chatbots()` method to see a selection of simple pre-built chatbots "
   ]
  },
  {
   "cell_type": "code",
   "execution_count": 1,
   "id": "cc06c275",
   "metadata": {},
   "outputs": [
    {
     "name": "stdout",
     "output_type": "stream",
     "text": [
      "Requirement already satisfied: nltk in /Users/jinwooseong/opt/miniconda3/envs/509/lib/python3.7/site-packages (3.8.1)\n",
      "Requirement already satisfied: regex>=2021.8.3 in /Users/jinwooseong/opt/miniconda3/envs/509/lib/python3.7/site-packages (from nltk) (2022.10.31)\n",
      "Requirement already satisfied: tqdm in /Users/jinwooseong/opt/miniconda3/envs/509/lib/python3.7/site-packages (from nltk) (4.64.1)\n",
      "Requirement already satisfied: joblib in /Users/jinwooseong/opt/miniconda3/envs/509/lib/python3.7/site-packages (from nltk) (1.2.0)\n",
      "Requirement already satisfied: click in /Users/jinwooseong/opt/miniconda3/envs/509/lib/python3.7/site-packages (from nltk) (8.1.3)\n",
      "Requirement already satisfied: importlib-metadata in /Users/jinwooseong/opt/miniconda3/envs/509/lib/python3.7/site-packages (from click->nltk) (5.0.0)\n",
      "Requirement already satisfied: typing-extensions>=3.6.4 in /Users/jinwooseong/opt/miniconda3/envs/509/lib/python3.7/site-packages (from importlib-metadata->click->nltk) (4.4.0)\n",
      "Requirement already satisfied: zipp>=0.5 in /Users/jinwooseong/opt/miniconda3/envs/509/lib/python3.7/site-packages (from importlib-metadata->click->nltk) (3.8.1)\n",
      "Note: you may need to restart the kernel to use updated packages.\n"
     ]
    }
   ],
   "source": [
    "pip install nltk"
   ]
  },
  {
   "cell_type": "markdown",
   "id": "6e64b24c",
   "metadata": {},
   "source": [
    "We'll also install pandas which we'll be using the read text files"
   ]
  },
  {
   "cell_type": "code",
   "execution_count": 2,
   "id": "e70245e9",
   "metadata": {},
   "outputs": [
    {
     "name": "stdout",
     "output_type": "stream",
     "text": [
      "Requirement already satisfied: pandas in /Users/jinwooseong/opt/miniconda3/envs/509/lib/python3.7/site-packages (1.3.5)\n",
      "Requirement already satisfied: python-dateutil>=2.7.3 in /Users/jinwooseong/opt/miniconda3/envs/509/lib/python3.7/site-packages (from pandas) (2.8.2)\n",
      "Requirement already satisfied: pytz>=2017.3 in /Users/jinwooseong/opt/miniconda3/envs/509/lib/python3.7/site-packages (from pandas) (2022.6)\n",
      "Requirement already satisfied: numpy>=1.17.3 in /Users/jinwooseong/opt/miniconda3/envs/509/lib/python3.7/site-packages (from pandas) (1.21.6)\n",
      "Requirement already satisfied: six>=1.5 in /Users/jinwooseong/opt/miniconda3/envs/509/lib/python3.7/site-packages (from python-dateutil>=2.7.3->pandas) (1.16.0)\n",
      "Note: you may need to restart the kernel to use updated packages.\n"
     ]
    }
   ],
   "source": [
    "pip install pandas"
   ]
  },
  {
   "cell_type": "code",
   "execution_count": 3,
   "id": "7456c029",
   "metadata": {},
   "outputs": [],
   "source": [
    "import pandas as pd"
   ]
  },
  {
   "cell_type": "code",
   "execution_count": 4,
   "id": "4374576d",
   "metadata": {},
   "outputs": [],
   "source": [
    "import nltk"
   ]
  },
  {
   "cell_type": "code",
   "execution_count": 5,
   "id": "7c0fc284",
   "metadata": {},
   "outputs": [
    {
     "name": "stdout",
     "output_type": "stream",
     "text": [
      "Which chatbot would you like to talk to?\n",
      "  1: Eliza (psycho-babble)\n",
      "  2: Iesha (teen anime junky)\n",
      "  3: Rude (abusive bot)\n",
      "  4: Suntsu (Chinese sayings)\n",
      "  5: Zen (gems of wisdom)\n",
      "   Error: bad chatbot number\n",
      "Therapist\n",
      "---------\n",
      "Talk to the program by typing in plain English, using normal upper-\n",
      "and lower-case letters and punctuation.  Enter \"quit\" when done.\n",
      "========================================================================\n",
      "Hello.  How are you feeling today?\n"
     ]
    }
   ],
   "source": [
    "nltk.chat.chatbots()"
   ]
  },
  {
   "cell_type": "markdown",
   "id": "5bebd13b",
   "metadata": {},
   "source": [
    "## Lab 1: Create Your Own Chatbot"
   ]
  },
  {
   "cell_type": "markdown",
   "id": "77d77d36",
   "metadata": {},
   "source": [
    "###  Step 1: Barebones Interactive Chatbot\n",
    "You will first create a simple interactive loop between user input and program output. Before entering the loop, your program should prompt the user to request their input (e.g. \"Hi, how can I help you?\"). At each iteration of the loop, the program should take user input (typed onto the terminal pressing 'Enter' at the end) and then output simple statistical information about that input (e.g. \"You entered X letters and Y words\"). Also add a way to exit the loop; for example, if the user types \"Bye\" the loop should end and your program should halt after a final prompt to the user to acknowledge that the interaction has ended. Add your code below."
   ]
  },
  {
   "cell_type": "code",
   "execution_count": 6,
   "id": "032aac1a",
   "metadata": {},
   "outputs": [
    {
     "name": "stdout",
     "output_type": "stream",
     "text": [
      "You entered  14  letters and  2  words.\n",
      "You entered  25  letters and  8  words.\n",
      "You entered  10  letters and  2  words.\n",
      "You entered  0  letters and  1  words.\n"
     ]
    }
   ],
   "source": [
    "## Barebones interactice chatbot\n",
    "\n",
    "# TODO: Implement the interactive system as described above\n",
    "\n",
    "while True:\n",
    "    text = input(\"Hi, how can I help you? (Bye for exit)\")\n",
    "    if text == \"Bye\":\n",
    "        break\n",
    "    word_count = len(text.split(\" \"))\n",
    "    char_count = len(''.join(text.split(\" \")))\n",
    "    print(\"You entered \", char_count, \" letters and \", word_count, \" words.\")"
   ]
  },
  {
   "cell_type": "markdown",
   "id": "95fe6739",
   "metadata": {},
   "source": [
    "### Step 2: Simple ListenBot\n",
    "\n",
    "Next you will upgrade your chatbot to be a \"good listener.\" Do not worry about deleting or overwriting things you did in the previous step. Before entering into the interactive loop, your chatbot should ask the user's name and remember it throughout the chat. It should also prompt the user to talk about something (e.g. \"How was your day, Ashitaka?\") As part of the loop, the chatbot should analyze the user's input and decide whether to give a positive, negative, or neutral response. To analyze the input, we have supplied a fixed list of [positive](http://ptrckprry.com/course/ssd/data/positive-words.txt) and [negative](http://ptrckprry.com/course/ssd/data/negative-words.txt) words and which will determine the number of positive and negative words that occur in the user's input. For the most simple version of the `ListenBot`, your list of positive and negative words do not have to be too long, just enough to showcase a simple conversation. However, the lists we supply will make your `ListenBot` more robust. \n",
    "\n",
    "The chatbot should respond based on the number of positive and negative words in the user's input. Your chatbot should have at least two different responses of each type and should alternate between responses, e.g.:\n",
    "* Positive responses: \"Great!\" \"Cool!\"\n",
    "* Negative responses: \"Too bad!\" \"Womp, womp!\"\n",
    "* Neutral responses: \"Hmm..\" \"I see.\"\n",
    "\n",
    "As before, there should be at least one way to end the conversation. You can make the ways to end the conversation known to the user in your earlier prompt or somewhere during the conversation. Add your updated code below."
   ]
  },
  {
   "cell_type": "code",
   "execution_count": 2,
   "id": "afc72e51",
   "metadata": {},
   "outputs": [
    {
     "name": "stdout",
     "output_type": "stream",
     "text": [
      "Great\n",
      "I see.\n",
      "I see.\n",
      "I see.\n",
      "I see.\n",
      "I see.\n",
      "I see.\n",
      "I see.\n",
      "I see.\n",
      "I see.\n",
      "I see.\n",
      "I see.\n"
     ]
    }
   ],
   "source": [
    "## Simple ListenBot\n",
    "import requests\n",
    "\n",
    "positive_url = \"https://ptrckprry.com/course/ssd/data/positive-words.txt\"\n",
    "negative_url = \"https://ptrckprry.com/course/ssd/data/negative-words.txt\"\n",
    "\n",
    "payload={}\n",
    "headers = {}\n",
    "\n",
    "negative_response = requests.request(\"GET\", negative_url, headers=headers, data=payload)\n",
    "positive_response = requests.request(\"GET\", positive_url, headers=headers, data=payload)\n",
    "\n",
    "negative_list = negative_response.text.split('\\n')[35:-1]\n",
    "positive_list = positive_response.text.split('\\n')[35:-1]\n",
    "\n",
    "# TODO: Implement ListenBot by extending the barebones interactive chatbot\n",
    "name = input(\"Please input your name? \")\n",
    "\n",
    "while True:\n",
    "    text = input(\"How was your day, \" + name)\n",
    "    positive_count = 0\n",
    "    negative_count = 0\n",
    "    if text == \"Bye\":\n",
    "        break\n",
    "    for word in text.split(' '):\n",
    "        if word in negative_list:\n",
    "            negative_count = negative_count + 1\n",
    "        if word in positive_list:\n",
    "            positive_count = positive_count + 1\n",
    "    if positive_count > negative_count:\n",
    "        print(\"Great\")\n",
    "    elif positive_count < negative_count:\n",
    "        print(\"Too Bad!\")\n",
    "    else:\n",
    "        print(\"I see.\")\n",
    "\n",
    "\n",
    "\n",
    "# Use the positive and negative word lists below to make your ListenBot more effective\n",
    "\n",
    "# Note that we generate these lists from words in plain text files that you can find on\n",
    "# Canvas under Files. Upload them to your own notebook server."
   ]
  },
  {
   "cell_type": "markdown",
   "id": "dba59602",
   "metadata": {},
   "source": [
    "#### Positive list and its word count"
   ]
  },
  {
   "cell_type": "code",
   "execution_count": 5,
   "id": "6425595a",
   "metadata": {},
   "outputs": [],
   "source": [
    "positive = list(pd.read_csv(\"positive_words.txt\", header=0).iloc[:,0].values)"
   ]
  },
  {
   "cell_type": "code",
   "execution_count": 6,
   "id": "09d38dd7",
   "metadata": {},
   "outputs": [
    {
     "data": {
      "text/plain": [
       "2006"
      ]
     },
     "execution_count": 6,
     "metadata": {},
     "output_type": "execute_result"
    }
   ],
   "source": [
    "len(positive)"
   ]
  },
  {
   "cell_type": "markdown",
   "id": "2dc06eeb",
   "metadata": {},
   "source": [
    "#### Negative list and its word count"
   ]
  },
  {
   "cell_type": "code",
   "execution_count": 7,
   "id": "a1e6351b",
   "metadata": {},
   "outputs": [],
   "source": [
    "negative = list(pd.read_csv(\"negative_words.txt\", header=0).iloc[:,0].values)"
   ]
  },
  {
   "cell_type": "code",
   "execution_count": 8,
   "id": "cca13097",
   "metadata": {},
   "outputs": [
    {
     "data": {
      "text/plain": [
       "4782"
      ]
     },
     "execution_count": 8,
     "metadata": {},
     "output_type": "execute_result"
    }
   ],
   "source": [
    "len(negative)"
   ]
  },
  {
   "cell_type": "markdown",
   "id": "4a787e19",
   "metadata": {},
   "source": [
    "### Step 3: Improved Listenbot\n",
    "\n",
    "Now test your chatbot with a classmate or friend. Based on breakdowns or awkwardness in these tests choose at least one additional improvement and implement it below. Make sure to descibe your improvement in the list below."
   ]
  },
  {
   "cell_type": "code",
   "execution_count": null,
   "id": "315aee0b",
   "metadata": {},
   "outputs": [],
   "source": [
    "## Improved ListenBot\n",
    "\n",
    "# TODO: Implement improved ListenBot that addresses at least one breakdown of the original ListenBotb\n",
    "\n",
    "negative_list = list(pd.read_csv(\"positive_words.txt\", header=0).iloc[:,0].values)\n",
    "positive_list = list(pd.read_csv(\"negative_words.txt\", header=0).iloc[:,0].values)\n",
    "\n",
    "# TODO: Implement ListenBot by extending the barebones interactive chatbot\n",
    "name = input(\"Please input your name? \")\n",
    "\n",
    "while True:\n",
    "    text = input(\"How was your day, \" + name)\n",
    "    positive_count = 0\n",
    "    negative_count = 0\n",
    "    if text == \"Bye\":\n",
    "        break\n",
    "    elif '?' in text:\n",
    "        print(\"Sorry I didn't quite get that.\")\n",
    "    else:\n",
    "        for word in text.split(' '):\n",
    "            if word in negative_list:\n",
    "                negative_count = negative_count + 1\n",
    "            if word in positive_list:\n",
    "                positive_count = positive_count + 1\n",
    "        if positive_count > negative_count:\n",
    "            print(\"Great\")\n",
    "        elif positive_count < negative_count:\n",
    "            print(\"Too Bad!\")\n",
    "        else:\n",
    "            print(\"I see.\")\n"
   ]
  },
  {
   "cell_type": "markdown",
   "id": "35d5faf5",
   "metadata": {},
   "source": [
    "### List of Improvements\n",
    "Provide a list or table here in `markdown` containing the improvements you made and a brief description of why you made them."
   ]
  },
  {
   "attachments": {},
   "cell_type": "markdown",
   "id": "97c02fa2",
   "metadata": {},
   "source": [
    "1. If being user input a question instead of an answer, then respond, \"Sorry I didn't quite get that.\""
   ]
  }
 ],
 "metadata": {
  "kernelspec": {
   "display_name": "509",
   "language": "python",
   "name": "python3"
  },
  "language_info": {
   "codemirror_mode": {
    "name": "ipython",
    "version": 3
   },
   "file_extension": ".py",
   "mimetype": "text/x-python",
   "name": "python",
   "nbconvert_exporter": "python",
   "pygments_lexer": "ipython3",
   "version": "3.7.13 (default, Mar 28 2022, 07:24:34) \n[Clang 12.0.0 ]"
  },
  "vscode": {
   "interpreter": {
    "hash": "db5ae56ddedcb10c001ea0cc5c0909c532051ee5af67ff58ed2f4f77c048c95c"
   }
  }
 },
 "nbformat": 4,
 "nbformat_minor": 5
}
