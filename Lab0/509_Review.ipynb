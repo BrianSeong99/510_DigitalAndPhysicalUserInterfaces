{
 "cells": [
  {
   "cell_type": "markdown",
   "id": "ab22f849",
   "metadata": {},
   "source": [
    "# Objective & Tasks\n",
    "The objective of this lab is to review some of the material from TECHIN 509 in order to help the instructors gauge your comfort level with Python.\n",
    "\n",
    "Your task is to write Python code that solves each of the problems below. Please submit the Jupyter Notebook file before the end of class today. If you need help from an instructor, please let one of us know.\n",
    "\n",
    "You should also feel free to reference [Python's documentation](https://www.python.org/doc/) for any questions you have during the assignment."
   ]
  },
  {
   "cell_type": "markdown",
   "id": "b1fc0fc9",
   "metadata": {},
   "source": [
    "## Task 1\n",
    "Define two variables, `first_name` and `last_name` and concatenate the two so that they print on the same line. Ex. `Scott Stevson`"
   ]
  },
  {
   "cell_type": "code",
   "execution_count": 13,
   "id": "e7ef28e2",
   "metadata": {},
   "outputs": [
    {
     "name": "stdout",
     "output_type": "stream",
     "text": [
      "Brian Seong\n"
     ]
    }
   ],
   "source": [
    "first_name = \"Brian\"\n",
    "last_name = \"Seong\"\n",
    "print(first_name + \" \" + last_name)"
   ]
  },
  {
   "cell_type": "markdown",
   "id": "7057ec62",
   "metadata": {},
   "source": [
    "## Task 2\n",
    "Create a list letters, `a-f` and use a `for` loop to print out each letter one line at a time"
   ]
  },
  {
   "cell_type": "code",
   "execution_count": 14,
   "id": "b1a1aa23",
   "metadata": {},
   "outputs": [
    {
     "name": "stdout",
     "output_type": "stream",
     "text": [
      "a\n",
      "b\n",
      "c\n",
      "d\n",
      "e\n",
      "f\n"
     ]
    }
   ],
   "source": [
    "letters = [\"a\", \"b\", \"c\", \"d\", \"e\", \"f\"]\n",
    "for letter in letters:\n",
    "    print(letter)"
   ]
  },
  {
   "cell_type": "markdown",
   "id": "5f54a6c2",
   "metadata": {},
   "source": [
    "## Task 3\n",
    "Create a function that takes no arguments and asks the user for their name and then prints (or returns) their name with a cheerful greeting. Ex `G'day, Scott Stevson!`"
   ]
  },
  {
   "cell_type": "code",
   "execution_count": 15,
   "id": "1056519a",
   "metadata": {},
   "outputs": [
    {
     "name": "stdout",
     "output_type": "stream",
     "text": [
      "G'day, 123\n"
     ]
    }
   ],
   "source": [
    "def cheername():\n",
    "    name = input()\n",
    "    print(\"G'day, \" + name)\n",
    "\n",
    "cheername()"
   ]
  },
  {
   "cell_type": "markdown",
   "id": "84668724",
   "metadata": {},
   "source": [
    "## Task 4\n",
    "Create a function that calculates a 20% gratuity at a restaurant. The function should take a single argument (an `int` or `float`, your choice) and should return the amount of the tip to the console."
   ]
  },
  {
   "cell_type": "code",
   "execution_count": 16,
   "id": "14108736",
   "metadata": {},
   "outputs": [
    {
     "data": {
      "text/plain": [
       "2.0"
      ]
     },
     "execution_count": 16,
     "metadata": {},
     "output_type": "execute_result"
    }
   ],
   "source": [
    "def get_gratuity(price):\n",
    "    return price * 0.2\n",
    "\n",
    "get_gratuity(10)"
   ]
  },
  {
   "cell_type": "markdown",
   "id": "08ec9cf0",
   "metadata": {},
   "source": [
    "## Task 5\n",
    "Write a program that prints the numbers 0-10 to the console."
   ]
  },
  {
   "cell_type": "code",
   "execution_count": 17,
   "id": "87455a5d",
   "metadata": {},
   "outputs": [
    {
     "name": "stdout",
     "output_type": "stream",
     "text": [
      "0\n",
      "1\n",
      "2\n",
      "3\n",
      "4\n",
      "5\n",
      "6\n",
      "7\n",
      "8\n",
      "9\n",
      "10\n"
     ]
    }
   ],
   "source": [
    "for num in range(11):\n",
    "    print(num)"
   ]
  },
  {
   "attachments": {},
   "cell_type": "markdown",
   "id": "214d25ef",
   "metadata": {},
   "source": [
    "## Task 6\n",
    "Write a program that finds the Factorial of a given number.\n",
    "More on f"
   ]
  },
  {
   "cell_type": "markdown",
   "id": "4250cdde",
   "metadata": {},
   "source": [
    "actorials can be found [here:](https://www.cuemath.com/numbers/factorial/) "
   ]
  },
  {
   "cell_type": "code",
   "execution_count": 18,
   "id": "8d075244",
   "metadata": {},
   "outputs": [
    {
     "name": "stdout",
     "output_type": "stream",
     "text": [
      "120\n"
     ]
    }
   ],
   "source": [
    "def factorial(num):\n",
    "    if num == 1:\n",
    "        return 1\n",
    "    else:\n",
    "        return num * factorial(num-1)\n",
    "\n",
    "print(factorial(5))"
   ]
  },
  {
   "cell_type": "markdown",
   "id": "a4d958e4",
   "metadata": {},
   "source": [
    "## Task 7\n",
    "Write a program that asks the user the same question over and over until the user indicates they no longer want to provide an answer."
   ]
  },
  {
   "cell_type": "code",
   "execution_count": 19,
   "id": "9bc54538",
   "metadata": {},
   "outputs": [],
   "source": [
    "while True:\n",
    "    answer = input(\"Would you like to stop? 0 for yes, anything else for no\")\n",
    "    if answer == \"0\":\n",
    "        break"
   ]
  },
  {
   "cell_type": "markdown",
   "id": "467f4177",
   "metadata": {},
   "source": [
    "## Task 8\n",
    "Write a `class` \"Person\" that when instantiated contains the persons first name, last name, and age."
   ]
  },
  {
   "cell_type": "code",
   "execution_count": null,
   "id": "9003f0a9",
   "metadata": {},
   "outputs": [],
   "source": [
    "class Person:\n",
    "    def __init__(self, first, last, age):\n",
    "        self.first_name = first\n",
    "        self.last_name = last\n",
    "        self.age = age"
   ]
  },
  {
   "cell_type": "markdown",
   "id": "a1a718ba",
   "metadata": {},
   "source": [
    "## Task 9\n",
    "Write a program that asks the user whether they enjoy jogging. The user's response should be one of the following: \"yes\", \"no\", \"y\", \"n\". The program should continue asking the question until the user provides the correct response."
   ]
  },
  {
   "cell_type": "code",
   "execution_count": null,
   "id": "28dedf56",
   "metadata": {},
   "outputs": [],
   "source": [
    "while True:\n",
    "    answer = input(\"Do you enjoy jogging?\")\n",
    "    if answer == \"yes\" or answer == \"no\" or answer == \"y\" or answer == \"n\":\n",
    "        break"
   ]
  },
  {
   "cell_type": "markdown",
   "id": "fb04333e",
   "metadata": {},
   "source": [
    "## Task 10\n",
    "### Fibonacci Sequence\n",
    "Given a number `n`, return the nth Fibonacci's number. You can find more information about Fibonacci Sequences [here](https://www.mathsisfun.com/numbers/fibonacci-sequence.html)"
   ]
  },
  {
   "cell_type": "code",
   "execution_count": 28,
   "id": "d8435191",
   "metadata": {},
   "outputs": [
    {
     "name": "stdout",
     "output_type": "stream",
     "text": [
      "8\n"
     ]
    }
   ],
   "source": [
    "def fibonacci(num):\n",
    "    if num == 1:\n",
    "        return 1\n",
    "    if num == 2:\n",
    "        return 1\n",
    "    return fibonacci(num-1) + fibonacci(num-2)\n",
    "\n",
    "print(fibonacci(6))"
   ]
  },
  {
   "cell_type": "markdown",
   "id": "ef4fc681",
   "metadata": {},
   "source": [
    "## Bonus Question\n",
    "### Number Guessing Game\n",
    "* Write a function `guessing_game` that takes no arguments.\n",
    "* When run, the function chooses a random integer between 0 and 100 (inclusive).\n",
    "* Then ask the user to guess what number has been chosen.\n",
    "* Each time the user enters a guess, the program indicates one of the following:\n",
    "    * Too high\n",
    "    * Too low\n",
    "    * Just right\n",
    "* If the user guesses correctly, the program exits. Otherwise, the user is asked to try again.\n",
    "* The program only exits after the user guesses correctly."
   ]
  },
  {
   "cell_type": "code",
   "execution_count": 29,
   "id": "9f14a1d5",
   "metadata": {},
   "outputs": [
    {
     "name": "stdout",
     "output_type": "stream",
     "text": [
      "Too low\n",
      "Too low\n",
      "Too low\n",
      "Too low\n",
      "Too low\n",
      "Too low\n",
      "Too low\n",
      "Too low\n",
      "Too low\n",
      "Too high\n",
      "Too low\n",
      "Too low\n",
      "Too low\n",
      "Too low\n",
      "Too high\n",
      "Too high\n",
      "Too low\n",
      "Too low\n",
      "Too low\n",
      "Just right\n"
     ]
    }
   ],
   "source": [
    "import random\n",
    "\n",
    "def guessing_game():\n",
    "    num = random.randint(0, 100)\n",
    "    while True:\n",
    "        guess = input(\"Input your guess: \")\n",
    "        if int(guess) > num:\n",
    "            print(\"Too high\")\n",
    "        elif int(guess) < num:\n",
    "            print(\"Too low\")\n",
    "        else:\n",
    "            print(\"Just right\")\n",
    "            break\n",
    "\n",
    "guessing_game()"
   ]
  }
 ],
 "metadata": {
  "kernelspec": {
   "display_name": "509",
   "language": "python",
   "name": "python3"
  },
  "language_info": {
   "codemirror_mode": {
    "name": "ipython",
    "version": 3
   },
   "file_extension": ".py",
   "mimetype": "text/x-python",
   "name": "python",
   "nbconvert_exporter": "python",
   "pygments_lexer": "ipython3",
   "version": "3.7.13 (default, Mar 28 2022, 07:24:34) \n[Clang 12.0.0 ]"
  },
  "vscode": {
   "interpreter": {
    "hash": "db5ae56ddedcb10c001ea0cc5c0909c532051ee5af67ff58ed2f4f77c048c95c"
   }
  }
 },
 "nbformat": 4,
 "nbformat_minor": 5
}
